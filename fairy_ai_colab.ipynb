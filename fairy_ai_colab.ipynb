{
 "cells": [
  {
   "cell_type": "code",
   "execution_count": null,
   "id": "2ffb203b",
   "metadata": {},
   "outputs": [],
   "source": [
    "from openai import OpenAI\n",
    "import yaml\n",
    "import os\n",
    "import json\n",
    "from prompt import *\n",
    "# from generate import *\n",
    "# from t2i import *\n",
    "from tts import *\n",
    "from generate import generate_and_parse_story # 只导入我们需要的统一函数\n",
    "from image_generator import process_story_for_images # 导入图片处理函数"
   ]
  },
  {
   "cell_type": "code",
   "execution_count": null,
   "id": "b1f74c3d",
   "metadata": {},
   "outputs": [],
   "source": [
    "with open(\"config.yaml\", \"r\", encoding='utf-8') as file:\n",
    "    config = yaml.safe_load(file)"
   ]
  },
  {
   "cell_type": "code",
   "execution_count": null,
   "id": "2e6baa6b",
   "metadata": {},
   "outputs": [],
   "source": [
    "prompt = generate_prompt(config=config)\n",
    "print(\"--- Generating story with the following prompt ---\")\n",
    "print(prompt)"
   ]
  }
 ],
 "metadata": {
  "kernelspec": {
   "display_name": "fairy",
   "language": "python",
   "name": "python3"
  },
  "language_info": {
   "name": "python",
   "version": "3.10.18"
  }
 },
 "nbformat": 4,
 "nbformat_minor": 5
}
