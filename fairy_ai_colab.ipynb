{
 "cells": [
  {
   "cell_type": "code",
   "execution_count": null,
   "id": "36910a0c",
   "metadata": {},
   "outputs": [],
   "source": [
    "!pip install openai pyyaml torch diffuser translator"
   ]
  },
  {
   "cell_type": "code",
   "execution_count": null,
   "id": "2ffb203b",
   "metadata": {},
   "outputs": [],
   "source": [
    "from openai import OpenAI\n",
    "import yaml\n",
    "import os\n",
    "import json\n",
    "from prompt import *\n",
    "# from generate import *\n",
    "# from t2i import *\n",
    "from tts import *\n",
    "from generate import generate_and_parse_story # 只导入我们需要的统一函数\n",
    "from image_generator import process_story_for_images # 导入图片处理函数\n",
    "import translators as ts"
   ]
  },
  {
   "cell_type": "code",
   "execution_count": null,
   "id": "b1f74c3d",
   "metadata": {},
   "outputs": [],
   "source": [
    "def translate_text(text, target_language=\"en\"):\n",
    "    # Translate using Google Translator engine\n",
    "    translated_text = ts.translate_text(text,to_language=target_language)\n",
    "    return translated_text\n",
    "\n",
    "\"\"\"\n",
    "Create config from yaml file. Example of config:\n",
    "\n",
    "{'title': '小熊的奇幻冒险', 'characters': [{'name': '小熊', 'trait': '勇敢'}, \n",
    "{'name': '狐狸', 'trait': '聪明'}], 'lesson': '要诚实守信', 'style': '温馨治愈', 'language': 'zh', 'voice': 'female'}\n",
    "\"\"\"\n",
    "with open(\"config.yaml\", \"r\", encoding='utf-8') as file:\n",
    "    config = yaml.safe_load(file)\n",
    "\n",
    "\n",
    "\"\"\"\n",
    "Get prompt for LLM, then pass it to API, return title, parts, t2iprompts, ...... \n",
    "\"\"\"\n",
    "# 1. 保持 prompt 生成逻辑不变\n",
    "prompt = generate_prompt(config=config)\n",
    "print(\"--- Generating story with the following prompt ---\")\n",
    "print(prompt)\n",
    "\n",
    "# 2. 调用统一的生成和解析函数\n",
    "structured_story = generate_and_parse_story(prompt=prompt)\n",
    "\n",
    "\n",
    "# 3. 打印最终的结构化数据\n",
    "if structured_story:\n",
    "    print(\"\\n--- Successfully generated and parsed story ---\")\n",
    "    print(json.dumps(structured_story, indent=2, ensure_ascii=False))\n",
    "    # 确保图片生成的 prompt 是英文的\n",
    "    print(\"\\n--- Ensuring all image prompts are in English ---\")\n",
    "    for part in structured_story.get(\"story_parts\", []):\n",
    "        part[\"t2i_prompt\"] = translate_text(part.get(\"t2i_prompt\",\"\"))\n",
    "        # print(part[\"t2i_prompt\"])\n",
    "  \n",
    "\n",
    "    # 直接将生成的结构化数据传递给图片处理模块\n",
    "    print(\"\\n--- Handing off to image generator ---\")\n",
    "    process_story_for_images(structured_story)\n",
    "else:\n",
    "    print(\"\\n--- Failed to get structured story after all attempts. ---\")"
   ]
  }
 ],
 "metadata": {
  "kernelspec": {
   "display_name": "fairy",
   "language": "python",
   "name": "python3"
  },
  "language_info": {
   "name": "python",
   "version": "3.10.18"
  }
 },
 "nbformat": 4,
 "nbformat_minor": 5
}
