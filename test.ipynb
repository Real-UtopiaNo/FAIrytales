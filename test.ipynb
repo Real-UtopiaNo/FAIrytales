{
 "cells": [
  {
   "cell_type": "code",
   "execution_count": null,
   "id": "8397dc36",
   "metadata": {},
   "outputs": [
    {
     "name": "stderr",
     "output_type": "stream",
     "text": [
      "d:\\anaconda3\\envs\\LLM\\lib\\site-packages\\tqdm\\auto.py:21: TqdmWarning: IProgress not found. Please update jupyter and ipywidgets. See https://ipywidgets.readthedocs.io/en/stable/user_install.html\n",
      "  from .autonotebook import tqdm as notebook_tqdm\n"
     ]
    },
    {
     "name": "stdout",
     "output_type": "stream",
     "text": [
      "bin d:\\anaconda3\\envs\\LLM\\lib\\site-packages\\bitsandbytes\\libbitsandbytes_cuda121.dll\n",
      "--- Generating story with the following prompt ---\n",
      "你是一名童话故事创作者。\n",
      "现在请根据以下设定，生成一篇童话故事，并将其分成 10 个段落，每段约 80 字，并提供**一句**图片提示词。童话故事中必须包含指定的好词好句，以便让阅读者学习。\n",
      "\n",
      "【设定】\n",
      "标题：壮壮的奇幻冒险\n",
      "角色：\n",
      "\t第1个角色：\t\t名字：壮壮\t\t物种：人类\n",
      "\t第2个角色：\t\t名字：吱吱\t\t物种：小鸟\n",
      "\n",
      "寓意：要诚实守信\n",
      "语言：中文\n",
      "目标年龄：5\n",
      "好词好句：氤氲、欢声笑语、痛改前非\n",
      "\n",
      "【输出格式】\n",
      "第1段：\n",
      "内容：<第1段故事内容，约 80 字>\n",
      "图片提示词：<用于生成图片的描述语句>\n",
      "\n",
      "第2段：\n",
      "内容：<第2段故事内容，约 80 字>\n",
      "图片提示词：<用于生成图片的描述语句>\n",
      "\n",
      "请严格遵守段落数和输出格式。\n",
      "--- Calling LLM with Function Calling enabled ---\n",
      "--- Success: LLM used Function Calling! ---\n"
     ]
    }
   ],
   "source": [
    "from openai import OpenAI\n",
    "import yaml\n",
    "import os\n",
    "import json\n",
    "from prompt import *\n",
    "# from generate import *\n",
    "# from t2i import *\n",
    "from tts import *\n",
    "from generate import generate_and_parse_story # 只导入我们需要的统一函数\n",
    "from image_generator import process_story_for_images # 导入图片处理函数\n",
    "import translators as ts\n",
    "from fairy_ai_v1 import translate_text\n",
    "with open(\"config.yaml\", \"r\", encoding='utf-8') as file:\n",
    "    config = yaml.safe_load(file)\n",
    "prompt = generate_prompt(config=config)\n",
    "print(\"--- Generating story with the following prompt ---\")\n",
    "print(prompt)\n",
    "\n",
    "# 2. 调用统一的生成和解析函数\n",
    "structured_story = generate_and_parse_story(prompt=prompt)\n"
   ]
  },
  {
   "cell_type": "code",
   "execution_count": 15,
   "id": "c705c79e",
   "metadata": {},
   "outputs": [],
   "source": [
    "structured_story[\"title\"] = translate_text(structured_story[\"title\"])"
   ]
  },
  {
   "cell_type": "code",
   "execution_count": 16,
   "id": "81215eff",
   "metadata": {},
   "outputs": [
    {
     "data": {
      "text/plain": [
       "{'title': 'www',\n",
       " 'story_parts': [{'part_number': 1,\n",
       "   'content': '在一个氤氲着晨雾的小村庄里，住着一个名叫壮壮的小男孩。他每天都会去森林里玩耍，直到有一天，他遇到了一只受伤的小鸟吱吱。壮壮轻轻地将吱吱捧在手心，决定带它回家照顾。',\n",
       "   't2i_prompt': '一个小男孩在晨雾弥漫的森林里捧着一只受伤的小鸟。'},\n",
       "  {'part_number': 2,\n",
       "   'content': '壮壮用温暖的毛巾为吱吱包扎伤口，还喂它吃小米。吱吱渐渐恢复了活力，它的歌声让壮壮的家充满了欢声笑语。壮壮对吱吱说：“等你好了，我就送你回森林。”',\n",
       "   't2i_prompt': '小男孩在家中为小鸟包扎伤口，小鸟欢快地唱歌。'},\n",
       "  {'part_number': 3,\n",
       "   'content': '几天后，吱吱的伤完全好了。壮壮带着它来到森林边缘，准备放它自由。吱吱却突然开口说话了：“谢谢你，壮壮！我可以实现你一个愿望。”壮壮惊讶极了。',\n",
       "   't2i_prompt': '小男孩和小鸟站在森林边缘，小鸟突然开口说话。'},\n",
       "  {'part_number': 4,\n",
       "   'content': '壮壮想了想，说：“我希望村庄的孩子们都能快乐。”吱吱点点头，扇动翅膀飞向天空。第二天，村庄里突然多了一座神奇的游乐场，孩子们玩得不亦乐乎。',\n",
       "   't2i_prompt': '小鸟飞向天空，村庄里出现了一座五彩斑斓的游乐场。'},\n",
       "  {'part_number': 5,\n",
       "   'content': '然而，壮壮发现游乐场的玩具总是莫名其妙地消失。他决定调查真相。夜晚，他偷偷躲在游乐场，看到一只小狐狸正在偷玩具。壮壮没有责怪它，而是问：“你需要帮助吗？”',\n",
       "   't2i_prompt': '小男孩躲在游乐场角落，发现一只小狐狸在偷玩具。'},\n",
       "  {'part_number': 6,\n",
       "   'content': '小狐狸低下头，承认自己因为孤独才偷玩具。壮壮说：“我们可以一起玩，但你要答应不再偷东西。”小狐狸答应了，壮壮带着它痛改前非，加入了孩子们的队伍。',\n",
       "   't2i_prompt': '小男孩和小狐狸握手言和，一起在游乐场玩耍。'},\n",
       "  {'part_number': 7,\n",
       "   'content': '吱吱再次出现，对壮壮说：“你的善良感动了我，我要送你一件礼物。”它递给壮壮一颗闪闪发光的种子。壮壮将种子种在院子里，第二天，一棵结满金色果实的树长了出来。',\n",
       "   't2i_prompt': '小鸟递给小男孩一颗发光的种子，院子里长出一棵金色果树。'},\n",
       "  {'part_number': 8,\n",
       "   'content': '壮壮把果实分给村庄的每一个人，大家都很开心。但村长却偷偷摘走了所有的果实，想拿去卖钱。壮壮发现后，对村长说：“诚实守信才是最重要的。”',\n",
       "   't2i_prompt': '小男孩站在金色果树前，对村长说着话。'},\n",
       "  {'part_number': 9,\n",
       "   'content': '村长羞愧地低下了头，把果实还给了大家。他向大家道歉，承诺以后不再贪心。村庄恢复了和谐，壮壮和吱吱的故事也被传颂开来。',\n",
       "   't2i_prompt': '村长低头道歉，村民们围在一起听小男孩讲故事。'},\n",
       "  {'part_number': 10,\n",
       "   'content': '一天，吱吱对壮壮说：“我要去帮助其他需要帮助的人。”壮壮虽然不舍，但还是挥手告别。从此，壮壮明白了诚实守信的力量，他的故事激励着更多人。',\n",
       "   't2i_prompt': '小男孩挥手告别飞向远方的小鸟，脸上带着微笑。'}]}"
      ]
     },
     "execution_count": 16,
     "metadata": {},
     "output_type": "execute_result"
    }
   ],
   "source": [
    "structured_story"
   ]
  }
 ],
 "metadata": {
  "kernelspec": {
   "display_name": "LLM",
   "language": "python",
   "name": "python3"
  },
  "language_info": {
   "codemirror_mode": {
    "name": "ipython",
    "version": 3
   },
   "file_extension": ".py",
   "mimetype": "text/x-python",
   "name": "python",
   "nbconvert_exporter": "python",
   "pygments_lexer": "ipython3",
   "version": "3.10.14"
  }
 },
 "nbformat": 4,
 "nbformat_minor": 5
}
